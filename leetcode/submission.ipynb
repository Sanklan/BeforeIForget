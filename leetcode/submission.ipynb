{
 "cells": [
  {
   "cell_type": "markdown",
   "metadata": {},
   "source": [
    "# download submissions from Leetcode \n",
    "URL copied from leetcode.com network tab, developer tools\n",
    "curl 'https://leetcode.com/api/submissions/?offset=920&limit=20&lastkey=' \\\n",
    "  -H 'accept: */*' \\\n",
    "  -H 'accept-language: en-US,en;q=0.9,en-IN;q=0.8' \\\n",
    "  -H 'cookie: ' \\\n",
    "  -H 'priority: u=1, i' \\\n",
    "  -H 'referer: https://leetcode.com/submissions/' \\\n",
    "  -H 'sec-ch-ua: \"Microsoft Edge\";v=\"129\", \"Not=A?Brand\";v=\"8\", \"Chromium\";v=\"129\"' \\\n",
    "  -H 'sec-ch-ua-arch: \"x86\"' \\\n",
    "  -H 'sec-ch-ua-bitness: \"64\"' \\\n",
    "  -H 'sec-ch-ua-full-version: \"129.0.2792.65\"' \\\n",
    "  -H 'sec-ch-ua-full-version-list: \"Microsoft Edge\";v=\"129.0.2792.65\", \"Not=A?Brand\";v=\"8.0.0.0\", \"Chromium\";v=\"129.0.6668.71\"' \\\n",
    "  -H 'sec-ch-ua-mobile: ?0' \\\n",
    "  -H 'sec-ch-ua-model: \"\"' \\\n",
    "  -H 'sec-ch-ua-platform: \"Windows\"' \\\n",
    "  -H 'sec-ch-ua-platform-version: \"15.0.0\"' \\\n",
    "  -H 'sec-fetch-dest: empty' \\\n",
    "  -H 'sec-fetch-mode: cors' \\\n",
    "  -H 'sec-fetch-site: same-origin' \\\n",
    "  -H 'user-agent: Mozilla/5.0 (Windows NT 10.0; Win64; x64) AppleWebKit/537.36 (KHTML, like Gecko) Chrome/129.0.0.0 Safari/537.36 Edg/129.0.0.0' \\\n",
    "  -H 'x-requested-with: XMLHttpRequest'"
   ]
  },
  {
   "cell_type": "code",
   "execution_count": null,
   "metadata": {},
   "outputs": [],
   "source": [
    "curl_command = \"\"\"curl 'https://leetcode.com/api/submissions/?offset={}&limit=920&lastkey=' \\\n",
    "  -H 'accept: */*' \\\n",
    "  -H 'accept-language: en-US,en;q=0.9,en-IN;q=0.8' \\\n",
    "  -H 'cookie: ' \\\n",
    "  -H 'priority: u=1, i' \\\n",
    "  -H 'referer: https://leetcode.com/submissions/' \\\n",
    "  -H 'sec-ch-ua: \"Microsoft Edge\";v=\"129\", \"Not=A?Brand\";v=\"8\", \"Chromium\";v=\"129\"' \\\n",
    "  -H 'sec-ch-ua-arch: \"x86\"' \\\n",
    "  -H 'sec-ch-ua-bitness: \"64\"' \\\n",
    "  -H 'sec-ch-ua-full-version: \"129.0.2792.65\"' \\\n",
    "  -H 'sec-ch-ua-full-version-list: \"Microsoft Edge\";v=\"129.0.2792.65\", \"Not=A?Brand\";v=\"8.0.0.0\", \"Chromium\";v=\"129.0.6668.71\"' \\\n",
    "  -H 'sec-ch-ua-mobile: ?0' \\\n",
    "  -H 'sec-ch-ua-model: \"\"' \\\n",
    "  -H 'sec-ch-ua-platform: \"Windows\"' \\\n",
    "  -H 'sec-ch-ua-platform-version: \"15.0.0\"' \\\n",
    "  -H 'sec-fetch-dest: empty' \\\n",
    "  -H 'sec-fetch-mode: cors' \\\n",
    "  -H 'sec-fetch-site: same-origin' \\\n",
    "  -H 'user-agent: Mozilla/5.0 (Windows NT 10.0; Win64; x64) AppleWebKit/537.36 (KHTML, like Gecko) Chrome/129.0.0.0 Safari/537.36 Edg/129.0.0.0' \\\n",
    "  -H 'x-requested-with: XMLHttpRequest' \\\n",
    "\"\"\"\n",
    "\n",
    "import subprocess\n",
    "process = subprocess.Popen(curl_command, shell=True, stdout=subprocess.PIPE)\n",
    "output, error = process.communicate()"
   ]
  },
  {
   "cell_type": "code",
   "execution_count": 19,
   "metadata": {},
   "outputs": [
    {
     "name": "stdout",
     "output_type": "stream",
     "text": [
      "None\n"
     ]
    }
   ],
   "source": [
    "print(error)"
   ]
  },
  {
   "cell_type": "code",
   "execution_count": null,
   "metadata": {},
   "outputs": [],
   "source": [
    "# print(output)\n",
    "# print(type(output))\n",
    "import json\n",
    "data = json.loads(output.decode('utf-8'))\n",
    "print(len(data['submissions_dump']))\n",
    "\n",
    "print(json.dumps(data['submissions_dump'][0], indent=4))"
   ]
  },
  {
   "cell_type": "markdown",
   "metadata": {},
   "source": [
    "key = submissions_dump \n",
    "\n",
    "every entry \n",
    "```json\n",
    "{\n",
    "    \"id\": 1410328544,\n",
    "    \"question_id\": 112,\n",
    "    \"lang\": \"java\",\n",
    "    \"lang_name\": \"Java\",\n",
    "    \"time\": \"1\\u00a0week\",\n",
    "    \"timestamp\": 1727950203,\n",
    "    \"status\": 10,\n",
    "    \"status_display\": \"Accepted\",\n",
    "    \"runtime\": \"0 ms\",\n",
    "    \"url\": \"/submissions/detail/1410328544/\",\n",
    "    \"is_pending\": \"Not Pending\",\n",
    "    \"title\": \"Path Sum\",\n",
    "    \"memory\": \"43.1 MB\",\n",
    "    \"code\": \"/**\\n * Definition for a binary tree node.\\n * public class TreeNode {\\n *     int val;\\n *     TreeNode left;\\n *     TreeNode right;\\n *     TreeNode() {}\\n *     TreeNode(int val) { this.val = val; }\\n *     TreeNode(int val, TreeNode left, TreeNode right) {\\n *         this.val = val;\\n *         this.left = left;\\n *         this.right = right;\\n *     }\\n * }\\n */\\nclass Solution {\\n    public boolean hasPathSum(TreeNode root, int targetSum) {\\n        if (root == null) return false;\\n        return dfs(root, 0, targetSum);\\n    }\\n\\n    private boolean leaf(TreeNode node) {\\n        return node.left == null && node.right == null;\\n    }\\n\\n    private boolean dfs(TreeNode node, int sum, int targetSum) {\\n        sum += node.val;\\n        if (leaf(node)) return sum == targetSum;\\n        \\n        if (node.left != null && dfs(node.left, sum, targetSum)) return true;\\n        if (node.right != null && dfs(node.right, sum, targetSum)) return true;\\n\\n        return false;\\n    }\\n}\",\n",
    "    \"compare_result\": \"111111111111111111111111111111111111111111111111111111111111111111111111111111111111111111111111111111111111111111111\",\n",
    "    \"title_slug\": \"path-sum\",\n",
    "    \"has_notes\": false,\n",
    "    \"flag_type\": 1\n",
    "}\n",
    "```"
   ]
  },
  {
   "cell_type": "markdown",
   "metadata": {},
   "source": [
    "Add cookie information in the function below"
   ]
  },
  {
   "cell_type": "code",
   "execution_count": 59,
   "metadata": {},
   "outputs": [],
   "source": [
    "def getSubmissions(offset):\n",
    "    import subprocess\n",
    "    curl_command = \"\"\"curl -X GET 'https://leetcode.com/api/submissions/?offset=\"\"\" + str(offset) + \"\"\"&limit=920&lastkey=' \\\n",
    "  -H 'accept: */*' \\\n",
    "  -H 'accept-language: en-US,en;q=0.9,en-IN;q=0.8' \\\n",
    "  -H 'cookie: ' \\\n",
    "  -H 'priority: u=1, i' \\\n",
    "  -H 'referer: https://leetcode.com/submissions/' \"\"\"\\\n",
    "\n",
    "    process = subprocess.Popen(curl_command, shell=True, stdout=subprocess.PIPE)\n",
    "    output, error = process.communicate()\n",
    "    if error is not None:\n",
    "        print(error)\n",
    "        print(\"Error downloading data\")\n",
    "    return output\n",
    "\n",
    "def output_to_json(output):\n",
    "    import json\n",
    "    data = json.loads(output.decode('utf-8'))['submissions_dump']\n",
    "    return data\n",
    "\n",
    "lang_fileType_map = { 'java' : '.java', 'csharp': '.cs' }\n",
    "\n"
   ]
  },
  {
   "cell_type": "code",
   "execution_count": 81,
   "metadata": {},
   "outputs": [],
   "source": [
    " \n",
    "\n",
    "# question : question_id\n",
    "# language : lang\n",
    "# status_display : Accepted \n",
    "# code \n",
    "\n",
    "# question_id mapped to list of codes (accepted only)\n",
    "## all_answers = {} \n",
    "\n",
    "\n",
    "def generate_code_files(all_answers, question_id) :\n",
    "    import os\n",
    "    try:\n",
    "        os.mkdir(\"leetcode_\" + str(question_id))\n",
    "    except:\n",
    "        print(\"Already exists\")\n",
    "    \n",
    "    index = 0\n",
    "    for code in all_answers[question_id]:\n",
    "        extension = '.txt'\n",
    "        if code['lang'] in lang_fileType_map:\n",
    "            extension = lang_fileType_map[code['lang']]\n",
    "        with open(\"leetcode_\" + str(question_id) + \"/\" + str(index) + extension , 'w') as f:\n",
    "            f.write(code['code'])\n",
    "        index += 1\n",
    "\n",
    "def parse_output(submissions_dump):\n",
    "    all_answers = {}\n",
    "    for submission in submissions_dump:\n",
    "        if submission['status_display'] == 'Accepted':\n",
    "            if submission['question_id'] not in all_answers:\n",
    "                all_answers[submission['question_id']] = []\n",
    "            all_answers[submission['question_id']].append(submission)\n",
    "    return all_answers\n",
    "\n",
    "def extend_dict(all_answers, local_dict):\n",
    "    for question_id in local_dict:\n",
    "        if question_id not in all_answers:\n",
    "            all_answers[question_id] = []\n",
    "        all_answers[question_id].extend(local_dict[question_id])\n",
    "\n",
    "def getAllSubmissions():\n",
    "    all_answers = {}\n",
    "    from time import sleep\n",
    "    for offset in range(0, 45):\n",
    "        submissions = getSubmissions(offset * 20)\n",
    "        sleep(10) # leetcode was blocking continous requests\n",
    "        print(submissions)\n",
    "        if submissions is None or submissions == b'':\n",
    "            continue\n",
    "        local_dict = parse_output(output_to_json(submissions))\n",
    "        extend_dict(all_answers, local_dict)\n",
    "        print(len(all_answers))\n",
    "    return all_answers\n",
    "\n",
    "def main():\n",
    "    all_answers = getAllSubmissions()\n",
    "    for question_id in all_answers:\n",
    "        generate_code_files(all_answers, question_id)\n"
   ]
  },
  {
   "cell_type": "code",
   "execution_count": null,
   "metadata": {},
   "outputs": [],
   "source": [
    "main()"
   ]
  }
 ],
 "metadata": {
  "kernelspec": {
   "display_name": "localpy",
   "language": "python",
   "name": "python3"
  },
  "language_info": {
   "codemirror_mode": {
    "name": "ipython",
    "version": 3
   },
   "file_extension": ".py",
   "mimetype": "text/x-python",
   "name": "python",
   "nbconvert_exporter": "python",
   "pygments_lexer": "ipython3",
   "version": "3.11.2"
  }
 },
 "nbformat": 4,
 "nbformat_minor": 2
}
